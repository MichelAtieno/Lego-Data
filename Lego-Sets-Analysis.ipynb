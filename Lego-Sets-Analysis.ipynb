{
 "cells": [
  {
   "cell_type": "markdown",
   "id": "19d44f70",
   "metadata": {},
   "source": [
    "You recently applied to work as a data analyst intern at the famous Lego Group in Denmark. As part of the job interview process, you received the following take-home assignment:\n",
    "\n",
    "You are asked to use the provided dataset to understand the popularity of different Lego sets and themes. The idea is to become familiarized with the data to be ready for an interview with a business stakeholder.\n",
    "\n",
    "You received access to a database with the following tables. You can also see above a visualization of how the tables are related to each other. https://rebrickable.com/downloads/:\n",
    "inventory_parts\n",
    "\"inventory_id\" - id of the inventory the part is in (as in the inventories table)\n",
    "\"part_num\" - unique id for the part (as in the parts table)\n",
    "\"color_id\" - id of the color\n",
    "\"quantity\" - the number of copies of the part included in the set\n",
    "\"is_spare\" - whether or not it is a spare part\n",
    "parts\n",
    "\"part_num\" - unique id for the part (as in the inventory_parts table)\n",
    "\"name\" - name of the part\n",
    "\"part_cat_id\" - part category id (as in part_catagories table)\n",
    "part_categories\n",
    "\"id\" - part category id (as in parts table)\n",
    "\"name\" - name of the category the part belongs to\n",
    "colors\n",
    "\"id\" - id of the color (as in inventory_parts table)\n",
    "\"name\" - color name\n",
    "\"rgb\" - rgb code of the color\n",
    "\"is_trans\" - whether or not the part is transparent/translucent\n",
    "inventories\n",
    "\"id\" - id of the inventory the part is in (as in the inventory_sets and inventory_parts tables)\n",
    "\"version\" - version number\n",
    "\"set_num\" - set number (as in sets table)\n",
    "inventory_sets\n",
    "\"inventory_id\" - id of the inventory the part is in (as in the inventories table)\n",
    "\"set_num\" - set number (as in sets table)\n",
    "\"quantity\" - the quantity of sets included\n",
    "sets\n",
    "\"set_num\" - unique set id (as in inventory_sets and inventories tables)\n",
    "\"name\" - the name of the set\n",
    "\"year\" - the year the set was published\n",
    "\"theme_id\" - the id of the theme the set belongs to (as in themes table)\n",
    "num-parts - the number of parts in the set\n",
    "themes\n",
    "\"id\" - the id of the theme (as in the sets table)\n",
    "\"name\" - the name of the theme\n",
    "\"parent_id\" - the id of the larger theme, if there is one\n",
    "Acknowledgments: Rebrickable.com\n",
    "\n",
    "💪 Challenge\n",
    "Create a report to summarize your findings. Include:\n",
    "\n",
    "What is the average number of Lego sets released per year?\n",
    "What is the average number of Lego parts per year?\n",
    "Create a visualization for item 2.\n",
    "What are the 5 most popular colors used in Lego parts?\n",
    "[Optional] What proportion of Lego parts are transparent?\n",
    "[Optional] What are the 5 rarest lego bricks?\n",
    "Summarize your findings."
   ]
  },
  {
   "cell_type": "code",
   "execution_count": 1,
   "id": "3b1218eb",
   "metadata": {},
   "outputs": [],
   "source": [
    "import pandas as pd\n",
    "from pandasql import sqldf"
   ]
  },
  {
   "cell_type": "code",
   "execution_count": 97,
   "id": "fe5411a7",
   "metadata": {},
   "outputs": [
    {
     "name": "stdout",
     "output_type": "stream",
     "text": [
      "           set_num                             name  year  theme_id  \\\n",
      "0            001-1                            Gears  1965         1   \n",
      "1           0011-2                Town Mini-Figures  1979        67   \n",
      "2           0011-3       Castle 2 for 1 Bonus Offer  1987       199   \n",
      "3           0012-1               Space Mini-Figures  1979       143   \n",
      "4           0013-1               Space Mini-Figures  1979       143   \n",
      "...            ...                              ...   ...       ...   \n",
      "20571      XWING-1              Mini X-Wing Fighter  2019       158   \n",
      "20572      XWING-2                X-Wing Trench Run  2019       158   \n",
      "20573  YODACHRON-1  Yoda Chronicles Promotional Set  2013       158   \n",
      "20574   YTERRIER-1                Yorkshire Terrier  2018       598   \n",
      "20575     ZX8000-1             ZX 8000 LEGO Sneaker  2020       501   \n",
      "\n",
      "       num_parts                                            img_url  \n",
      "0             43   https://cdn.rebrickable.com/media/sets/001-1.jpg  \n",
      "1             12  https://cdn.rebrickable.com/media/sets/0011-2.jpg  \n",
      "2              0  https://cdn.rebrickable.com/media/sets/0011-3.jpg  \n",
      "3             12  https://cdn.rebrickable.com/media/sets/0012-1.jpg  \n",
      "4             12  https://cdn.rebrickable.com/media/sets/0013-1.jpg  \n",
      "...          ...                                                ...  \n",
      "20571         60  https://cdn.rebrickable.com/media/sets/xwing-1...  \n",
      "20572         52  https://cdn.rebrickable.com/media/sets/xwing-2...  \n",
      "20573        413  https://cdn.rebrickable.com/media/sets/yodachr...  \n",
      "20574          0  https://cdn.rebrickable.com/media/sets/yterrie...  \n",
      "20575          0  https://cdn.rebrickable.com/media/sets/zx8000-...  \n",
      "\n",
      "[20576 rows x 6 columns]\n",
      "          part_num                                               name  \\\n",
      "0           003381                        Sticker Sheet for Set 663-1   \n",
      "1           003383                Sticker Sheet for Sets 618-1, 628-2   \n",
      "2           003402         Sticker Sheet for Sets 310-3, 311-1, 312-3   \n",
      "3           003429                       Sticker Sheet for Set 1550-1   \n",
      "4           003432         Sticker Sheet for Sets 357-1, 355-1, 940-1   \n",
      "...            ...                                                ...   \n",
      "49941      upn0555                      Playmat - Pond for Set 3095-1   \n",
      "49942   vladekmask  Play Gear, Mask, Hard Plastic, Knights Kingdom...   \n",
      "49943       wood03           Storage Box, Wooden with Red Sliding Top   \n",
      "49944       wood04  Storage Box, Wooden with Plain Sliding Top and...   \n",
      "49945  znapupn0005            Znap Connector 3 x 3 - 4 way C (Closed)   \n",
      "\n",
      "       part_cat_id part_material  \n",
      "0               58       Plastic  \n",
      "1               58       Plastic  \n",
      "2               58       Plastic  \n",
      "3               58       Plastic  \n",
      "4               58       Plastic  \n",
      "...            ...           ...  \n",
      "49941           17       Plastic  \n",
      "49942           17       Plastic  \n",
      "49943           17       Plastic  \n",
      "49944           17       Plastic  \n",
      "49945           43       Plastic  \n",
      "\n",
      "[49946 rows x 4 columns]\n",
      "         inventory_id         part_num  color_id  quantity is_spare  \\\n",
      "0                   1         48379c01        72         1        f   \n",
      "1                   1            48395         7         1        f   \n",
      "2                   1   stickerupn0077      9999         1        f   \n",
      "3                   1          upn0342         0         1        f   \n",
      "4                   1          upn0350        25         1        f   \n",
      "...               ...              ...       ...       ...      ...   \n",
      "1096573        162181  973c27h01pr5051        15         1        f   \n",
      "1096574        162182      3626cpr1635        14         1        f   \n",
      "1096575        162182           41879a        19         1        f   \n",
      "1096576        162182            87990       321         1        f   \n",
      "1096577        162182  973c01h01pr4899        29         1        f   \n",
      "\n",
      "                                                   img_url  \n",
      "0        https://cdn.rebrickable.com/media/parts/photos...  \n",
      "1        https://cdn.rebrickable.com/media/parts/photos...  \n",
      "2                                                      NaN  \n",
      "3                                                      NaN  \n",
      "4                                                      NaN  \n",
      "...                                                    ...  \n",
      "1096573  https://cdn.rebrickable.com/media/parts/elemen...  \n",
      "1096574  https://cdn.rebrickable.com/media/parts/elemen...  \n",
      "1096575  https://cdn.rebrickable.com/media/parts/elemen...  \n",
      "1096576  https://cdn.rebrickable.com/media/parts/elemen...  \n",
      "1096577  https://cdn.rebrickable.com/media/parts/elemen...  \n",
      "\n",
      "[1096578 rows x 6 columns]\n",
      "       id                  name     rgb is_trans\n",
      "0      -1             [Unknown]  0033B2        f\n",
      "1       0                 Black  05131D        f\n",
      "2       1                  Blue  0055BF        f\n",
      "3       2                 Green  237841        f\n",
      "4       3        Dark Turquoise  008F9B        f\n",
      "..    ...                   ...     ...      ...\n",
      "212  1086            Pearl Lime  6A7944        f\n",
      "213  1087            Duplo Pink  FF879C        f\n",
      "214  1088          Medium Brown  755945        f\n",
      "215  1089              Warm Tan  CCA373        f\n",
      "216  9999  [No Color/Any Color]  05131D        f\n",
      "\n",
      "[217 rows x 4 columns]\n",
      "           id  version     set_num\n",
      "0           1        1      7922-1\n",
      "1           3        1      3931-1\n",
      "2           4        1      6942-1\n",
      "3          15        1      5158-1\n",
      "4          16        1       903-1\n",
      "...       ...      ...         ...\n",
      "35049  161852        1    112322-1\n",
      "35050  161860        1  fig-013497\n",
      "35051  162176        1     11975-1\n",
      "35052  162181        1  fig-013498\n",
      "35053  162182        1  fig-013499\n",
      "\n",
      "[35054 rows x 3 columns]\n",
      "    id                     name\n",
      "0    1               Baseplates\n",
      "1    3            Bricks Sloped\n",
      "2    4  Duplo, Quatro and Primo\n",
      "3    5           Bricks Special\n",
      "4    6            Bricks Wedged\n",
      "..  ..                      ...\n",
      "61  64      Minidoll Lower Body\n",
      "62  65         Minifig Headwear\n",
      "63  66                  Modulex\n",
      "64  67   Tiles Round and Curved\n",
      "65  68  Projectiles / Launchers\n",
      "\n",
      "[66 rows x 2 columns]\n"
     ]
    }
   ],
   "source": [
    "#import datasets\n",
    "sets_data = pd.read_csv('LEGO_Data/sets.csv', encoding='utf-8')\n",
    "sets_data = pd.DataFrame(sets_data)\n",
    "print(sets_data)\n",
    "\n",
    "parts_data = pd.read_csv('LEGO_Data/parts.csv', encoding='utf-8')\n",
    "parts_data = pd.DataFrame(parts_data)\n",
    "print(parts_data)\n",
    "\n",
    "inventory_parts_data = pd.read_csv('LEGO_Data/inventory_parts.csv', encoding='utf-8')\n",
    "inventory_parts_data = pd.DataFrame(inventory_parts_data)\n",
    "print(inventory_parts_data)\n",
    "\n",
    "colors_data = pd.read_csv('LEGO_Data/colors.csv', encoding='utf-8')\n",
    "colors_data = pd.DataFrame(colors_data)\n",
    "print(colors_data)\n",
    "\n",
    "inventory_data = pd.read_csv('LEGO_Data/inventories.csv', encoding='utf-8')\n",
    "inventory_data = pd.DataFrame(inventory_data)\n",
    "print(inventory_data)\n",
    "\n",
    "part_categories_data = pd.read_csv('LEGO_Data/part_categories.csv', encoding='utf-8')\n",
    "part_categories_data = pd.DataFrame(part_categories_data)\n",
    "print(part_categories_data)\n",
    "\n",
    "# inventory_minifigs_data = pd.read_csv('LEGO_Data/inventory_minifigs.csv', encoding='utf-8')\n",
    "# inventory_minifigs_data = pd.DataFrame(inventory_minifigs_data)\n",
    "# print(inventory_minifigs_data)\n",
    "\n",
    "# minifigs_data = pd.read_csv('LEGO_Data/minifigs.csv', encoding='utf-8')\n",
    "# minifigs_data = pd.DataFrame(minifigs_data)\n",
    "# print(minifigs_data)\n"
   ]
  },
  {
   "cell_type": "code",
   "execution_count": 20,
   "id": "92e0df49",
   "metadata": {},
   "outputs": [
    {
     "name": "stdout",
     "output_type": "stream",
     "text": [
      "20576\n",
      "73\n"
     ]
    },
    {
     "data": {
      "text/plain": [
       "281.86301369863014"
      ]
     },
     "execution_count": 20,
     "metadata": {},
     "output_type": "execute_result"
    }
   ],
   "source": [
    "#What is the average number of Lego sets released per year?\n",
    "\n",
    "#average_sets_per_year = total_no_of_lego_sets/total_no_of_years\n",
    "\n",
    "total_no_of_sets = sets_data[\"set_num\"].nunique()\n",
    "print(total_no_of_sets)\n",
    "\n",
    "total_no_of_years = sets_data[\"year\"].nunique()\n",
    "print(total_no_of_years)\n",
    "\n",
    "average_sets_per_year = total_no_of_sets/total_no_of_years\n",
    "average_sets_per_year"
   ]
  },
  {
   "cell_type": "code",
   "execution_count": 23,
   "id": "65c967f6",
   "metadata": {},
   "outputs": [
    {
     "name": "stdout",
     "output_type": "stream",
     "text": [
      "3284435\n"
     ]
    },
    {
     "data": {
      "text/plain": [
       "44992.260273972606"
      ]
     },
     "execution_count": 23,
     "metadata": {},
     "output_type": "execute_result"
    }
   ],
   "source": [
    "# What is the average number of Lego parts per year?\n",
    "\n",
    "# average_parts_per_year = total_number_of_parts/total_no_of_years\n",
    "\n",
    "total_no_of_parts = sets_data[\"num_parts\"].sum()\n",
    "print(total_no_of_parts)\n",
    "\n",
    "average_parts_per_year = total_no_of_parts/total_no_of_years\n",
    "average_parts_per_year"
   ]
  },
  {
   "cell_type": "code",
   "execution_count": 43,
   "id": "b788ff00",
   "metadata": {},
   "outputs": [
    {
     "data": {
      "text/html": [
       "<div>\n",
       "<style scoped>\n",
       "    .dataframe tbody tr th:only-of-type {\n",
       "        vertical-align: middle;\n",
       "    }\n",
       "\n",
       "    .dataframe tbody tr th {\n",
       "        vertical-align: top;\n",
       "    }\n",
       "\n",
       "    .dataframe thead th {\n",
       "        text-align: right;\n",
       "    }\n",
       "</style>\n",
       "<table border=\"1\" class=\"dataframe\">\n",
       "  <thead>\n",
       "    <tr style=\"text-align: right;\">\n",
       "      <th></th>\n",
       "      <th>Color_Name</th>\n",
       "    </tr>\n",
       "  </thead>\n",
       "  <tbody>\n",
       "    <tr>\n",
       "      <th>Black</th>\n",
       "      <td>195728</td>\n",
       "    </tr>\n",
       "    <tr>\n",
       "      <th>White</th>\n",
       "      <td>124207</td>\n",
       "    </tr>\n",
       "    <tr>\n",
       "      <th>Light Bluish Gray</th>\n",
       "      <td>114478</td>\n",
       "    </tr>\n",
       "    <tr>\n",
       "      <th>Dark Bluish Gray</th>\n",
       "      <td>85189</td>\n",
       "    </tr>\n",
       "    <tr>\n",
       "      <th>Red</th>\n",
       "      <td>84134</td>\n",
       "    </tr>\n",
       "  </tbody>\n",
       "</table>\n",
       "</div>"
      ],
      "text/plain": [
       "                   Color_Name\n",
       "Black                  195728\n",
       "White                  124207\n",
       "Light Bluish Gray      114478\n",
       "Dark Bluish Gray        85189\n",
       "Red                     84134"
      ]
     },
     "execution_count": 43,
     "metadata": {},
     "output_type": "execute_result"
    }
   ],
   "source": [
    "#What are the 5 most popular colors used in Lego parts?\n",
    "\n",
    "color_query = \"\"\" SELECT P.part_num, P.name as Part_Name, IP.quantity, IP.color_id, C.is_trans, C.name as Color_Name\n",
    "            FROM parts_data as P\n",
    "            JOIN inventory_parts_data as IP on IP.part_num = P.part_num\n",
    "            JOIN colors_data as C ON IP.color_id = C.id\n",
    "            ORDER BY P.part_num ASC\n",
    "        \"\"\"\n",
    "the_data = sqldf(color_query)\n",
    "part_colors_data = the_data[\"Color_Name\"].value_counts().head(5)\n",
    "part_colors_data = pd.DataFrame(part_colors_data)\n",
    "part_colors_data"
   ]
  },
  {
   "cell_type": "code",
   "execution_count": 74,
   "id": "e8604dc4",
   "metadata": {},
   "outputs": [
    {
     "name": "stdout",
     "output_type": "stream",
     "text": [
      "64224\n",
      "1096578\n"
     ]
    },
    {
     "data": {
      "text/plain": [
       "0.05856765319019714"
      ]
     },
     "execution_count": 74,
     "metadata": {},
     "output_type": "execute_result"
    }
   ],
   "source": [
    "#What proportion of Lego parts are transparent?\n",
    "\n",
    "transparent_lego = the_data[the_data[\"is_trans\"] == \"t\"][\"is_trans\"].value_counts().sum()\n",
    "print(transparent_lego)\n",
    "\n",
    "# not_transparent_lego = the_data[the_data[\"is_trans\"] == \"f\"][\"is_trans\"].value_counts().sum()\n",
    "# print(not_transparent_lego)\n",
    "\n",
    "all_parts = the_data[\"is_trans\"].value_counts().sum()\n",
    "print(all_parts)\n",
    "\n",
    "# not_transparent_proportion = not_transparent_lego/all_parts\n",
    "# print(not_transparent_proportion)\n",
    "\n",
    "transparent_proportion = transparent_lego/all_parts\n",
    "transparent_proportion\n",
    "\n"
   ]
  },
  {
   "cell_type": "code",
   "execution_count": 138,
   "id": "2140c44c",
   "metadata": {},
   "outputs": [],
   "source": [
    "# What are the 5 rarest lego bricks?\n",
    "\n",
    "# pd.DataFrame(the_data[\"Part_Name\"].value_counts().tail(50))\n",
    "\n",
    "# pd.DataFrame(the_data[[\"Part_Name\", \"quantity\"]].value_counts())"
   ]
  },
  {
   "cell_type": "code",
   "execution_count": 139,
   "id": "519544b7",
   "metadata": {},
   "outputs": [
    {
     "name": "stdout",
     "output_type": "stream",
     "text": [
      "                                          part_name  quantity  \\\n",
      "0                       Sticker Sheet for Set 663-1         1   \n",
      "1               Sticker Sheet for Sets 618-1, 628-2         1   \n",
      "2               Sticker Sheet for Sets 618-1, 628-2         1   \n",
      "3        Sticker Sheet for Sets 310-3, 311-1, 312-3         1   \n",
      "4        Sticker Sheet for Sets 310-3, 311-1, 312-3         1   \n",
      "...                                             ...       ...   \n",
      "1096573                                 Plate 1 x 1      1170   \n",
      "1096574                                 Plate 1 x 1      1440   \n",
      "1096575                            Tile Round 1 x 1      1607   \n",
      "1096576                            Tile Round 1 x 1      1879   \n",
      "1096577           Plate Round 1 x 1 with Solid Stud      3064   \n",
      "\n",
      "                     part_category_name  \n",
      "0                              Stickers  \n",
      "1                              Stickers  \n",
      "2                              Stickers  \n",
      "3                              Stickers  \n",
      "4                              Stickers  \n",
      "...                                 ...  \n",
      "1096573                          Plates  \n",
      "1096574                          Plates  \n",
      "1096575          Tiles Round and Curved  \n",
      "1096576          Tiles Round and Curved  \n",
      "1096577  Plates Round Curved and Dishes  \n",
      "\n",
      "[1096578 rows x 3 columns]\n"
     ]
    }
   ],
   "source": [
    "another_query = \"\"\" SELECT P.name as part_name, IP.quantity, PC.name as part_category_name\n",
    "            FROM parts_data as P\n",
    "            JOIN inventory_parts_data as IP on IP.part_num = P.part_num\n",
    "            JOIN part_categories_data as PC on PC.id = P.part_cat_id\n",
    "            ORDER by IP.quantity ASC\n",
    "        \"\"\"\n",
    "that_data = sqldf(another_query)\n",
    "that_data = pd.DataFrame(that_data)\n",
    "print(that_data)"
   ]
  },
  {
   "cell_type": "code",
   "execution_count": 140,
   "id": "8a382634",
   "metadata": {},
   "outputs": [],
   "source": [
    "# pd.DataFrame(that_data[\"part_name\"].value_counts().tail(50))"
   ]
  },
  {
   "cell_type": "code",
   "execution_count": 141,
   "id": "f16aca6c",
   "metadata": {},
   "outputs": [],
   "source": [
    "# pd.DataFrame(that_data.groupby(\"quantity\")[[\"part_name\", \"part_category_name\"]].value_counts().head(50))"
   ]
  },
  {
   "cell_type": "code",
   "execution_count": null,
   "id": "79c14f8f",
   "metadata": {},
   "outputs": [],
   "source": []
  }
 ],
 "metadata": {
  "kernelspec": {
   "display_name": "Python 3 (ipykernel)",
   "language": "python",
   "name": "python3"
  },
  "language_info": {
   "codemirror_mode": {
    "name": "ipython",
    "version": 3
   },
   "file_extension": ".py",
   "mimetype": "text/x-python",
   "name": "python",
   "nbconvert_exporter": "python",
   "pygments_lexer": "ipython3",
   "version": "3.10.6"
  }
 },
 "nbformat": 4,
 "nbformat_minor": 5
}
